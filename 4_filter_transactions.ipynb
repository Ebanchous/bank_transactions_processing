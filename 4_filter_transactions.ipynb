{
 "cells": [
  {
   "cell_type": "markdown",
   "metadata": {},
   "source": [
    "Load CSV into dataframe:"
   ]
  },
  {
   "cell_type": "code",
   "execution_count": 1,
   "metadata": {},
   "outputs": [
    {
     "name": "stdout",
     "output_type": "stream",
     "text": [
      "we are working at letter G:\n",
      "Wall time: 1min 23s\n"
     ]
    }
   ],
   "source": [
    "%%time\n",
    "import pandas as pd\n",
    "import numpy as np\n",
    "import datetime, csv, os\n",
    "file = r'G:\\Files\\3279\\2020\\Code\\Transactions\\csv\\new_total_transactions1.csv'\n",
    "df = pd.read_csv(file, low_memory = False, sep = \"\\t\")\n",
    "(drive, path) = os.path.splitdrive(file)\n",
    "print('we are working at letter',drive)"
   ]
  },
  {
   "cell_type": "code",
   "execution_count": 2,
   "metadata": {},
   "outputs": [
    {
     "name": "stdout",
     "output_type": "stream",
     "text": [
      "Wall time: 549 ms\n"
     ]
    }
   ],
   "source": [
    "%%time\n",
    "df['Дата1'] = pd.to_datetime(df['Дата'], format='%Y-%m-%d')\n",
    "#df['Дата2'] = pd.to_datetime(df['Дата'], format='%Y-%B-%d')"
   ]
  },
  {
   "cell_type": "code",
   "execution_count": 4,
   "metadata": {},
   "outputs": [
    {
     "name": "stdout",
     "output_type": "stream",
     "text": [
      "<class 'pandas.core.frame.DataFrame'>\n",
      "RangeIndex: 6725367 entries, 0 to 6725366\n",
      "Data columns (total 29 columns):\n",
      " #   Column                  Dtype         \n",
      "---  ------                  -----         \n",
      " 0   №                       float64       \n",
      " 1   spare                   object        \n",
      " 2   Фил                     int64         \n",
      " 3   Исполнитель             object        \n",
      " 4   Создатель               object        \n",
      " 5   Дата                    object        \n",
      " 6   № док-та                object        \n",
      " 7   Счет Дт                 object        \n",
      " 8   Наменование счета ДТ    object        \n",
      " 9   Наменование клиента ДТ  object        \n",
      " 10  ИНН клиента ДТ          object        \n",
      " 11  Сумма в ном. ДТ         float64       \n",
      " 12  Сумма в руб. экв. ДТ    float64       \n",
      " 13  Счет Кт                 object        \n",
      " 14  Наменование счета КТ    object        \n",
      " 15  Наменование клиента КТ  object        \n",
      " 16  ИНН клиента КТ          object        \n",
      " 17  Сумма в ном. КТ         float64       \n",
      " 18  Сумма в руб. экв. КТ    float64       \n",
      " 19  Назначение операции     object        \n",
      " 20  Кат                     object        \n",
      " 21  Документ                float64       \n",
      " 22  1                       float64       \n",
      " 23  2                       float64       \n",
      " 24  accountDT2level         int64         \n",
      " 25  accountKT2level         int64         \n",
      " 26  Month                   object        \n",
      " 27  Unnamed: 0              float64       \n",
      " 28  Дата1                   datetime64[ns]\n",
      "dtypes: datetime64[ns](1), float64(9), int64(3), object(16)\n",
      "memory usage: 1.5+ GB\n",
      "None\n"
     ]
    }
   ],
   "source": [
    "print(df.info())"
   ]
  },
  {
   "cell_type": "markdown",
   "metadata": {},
   "source": [
    "search by accounts second level:"
   ]
  },
  {
   "cell_type": "code",
   "execution_count": 3,
   "metadata": {},
   "outputs": [
    {
     "name": "stdout",
     "output_type": "stream",
     "text": [
      "(10178, 29)\n",
      "(9368, 29)\n",
      "Wall time: 48.8 ms\n"
     ]
    }
   ],
   "source": [
    "%%time\n",
    "account1 = 40702\n",
    "account2 = account1\n",
    "df1 = df[df['accountDT2level'] == account1]\n",
    "df2 = df[df['accountKT2level'] == account2]\n",
    "print(df1.shape)\n",
    "print(df2.shape)"
   ]
  },
  {
   "cell_type": "code",
   "execution_count": 4,
   "metadata": {},
   "outputs": [
    {
     "name": "stdout",
     "output_type": "stream",
     "text": [
      "start saving files\n",
      "first file had been saved\n",
      "everything had been saved\n",
      "Wall time: 6.27 s\n"
     ]
    }
   ],
   "source": [
    "%%time\n",
    "print(\"start saving files\")\n",
    "df1.to_excel(drive + r'\\Files\\3279\\2020\\Code\\Transactions\\!_ready\\\\' + str(account1)+ '_DT' + '.xlsx', engine='xlsxwriter')\n",
    "#df1.to_csv(drive + r'\\Files\\3279\\transactions\\!_ready\\\\' + str(account1)+ '_DT' + '.csv', sep = \"\\t\", index = False, encoding = \"cp1251\")\n",
    "print(\"first file had been saved\")\n",
    "df2.to_excel(drive + r'\\Files\\3279\\2020\\Code\\Transactions\\!_ready\\\\' + str(account2)+ '_KT' + '.xlsx', engine='xlsxwriter')\n",
    "#df2.to_csv(drive + r'\\Files\\3279\\transactions\\!_ready\\\\' + str(account2)+ '_KT' + '.csv', sep = \"\\t\", index = False, encoding = \"cp1251\")\n",
    "print(\"everything had been saved\")"
   ]
  },
  {
   "cell_type": "markdown",
   "metadata": {},
   "source": [
    "Search by transaction description:"
   ]
  },
  {
   "cell_type": "code",
   "execution_count": 11,
   "metadata": {},
   "outputs": [
    {
     "name": "stdout",
     "output_type": "stream",
     "text": [
      "(13, 29)\n",
      "Wall time: 1.3 s\n"
     ]
    }
   ],
   "source": [
    "%%time\n",
    "search1 = ('7703418281')\n",
    "find1 = df['ИНН клиента КТ']\n",
    "\n",
    "# Назначение операции\n",
    "# Наменование клиента ДТ\n",
    "\n",
    "\n",
    "df3 = df[find1.str.contains(str(search1), na=False)]\n",
    "print(df3.shape)"
   ]
  },
  {
   "cell_type": "code",
   "execution_count": 12,
   "metadata": {},
   "outputs": [
    {
     "name": "stdout",
     "output_type": "stream",
     "text": [
      "<bound method NDFrame.head of                 №       spare  Фил                     Исполнитель  \\\n",
      "1196       1799.0  2019-01-01    1  Служевенкова Елена Анатольевна   \n",
      "3887647       NaN  2019-07-31    1      Шавырина Ирина Геннадиевна   \n",
      "3888265       NaN  2019-07-31    1      Шавырина Ирина Геннадиевна   \n",
      "3888269       NaN  2019-07-31    1          Алиева Инна Викторовна   \n",
      "3888271       NaN  2019-07-31    1     Тужикова Ольга Владимировна   \n",
      "3888295       NaN  2019-07-31    1         Соловьева Ольга Юрьевна   \n",
      "3888304       NaN  2019-07-31    1     Тужикова Ольга Владимировна   \n",
      "4519339  288910.0  2019-08-30    1      Шавырина Ирина Геннадиевна   \n",
      "6138701       NaN  2019-11-15    1                          DAEMON   \n",
      "6138703       NaN  2019-11-15    1                          DAEMON   \n",
      "6157480       NaN  2019-11-26    1         Соловьева Ольга Юрьевна   \n",
      "6157481       NaN  2019-11-26    1         Соловьева Ольга Юрьевна   \n",
      "6270090       NaN  2019-11-15   46                          DAEMON   \n",
      "\n",
      "                           Создатель        Дата    № док-та  \\\n",
      "1196      Шавырина Ирина Геннадиевна  2019-01-01         102   \n",
      "3887647      Соловьева Ольга Юрьевна  2019-07-31       62700   \n",
      "3888265      Соловьева Ольга Юрьевна  2019-07-31       62747   \n",
      "3888269      Соловьева Ольга Юрьевна  2019-07-31       06684   \n",
      "3888271      Соловьева Ольга Юрьевна  2019-07-31       00334   \n",
      "3888295  Тужикова Ольга Владимировна  2019-07-31       06662   \n",
      "3888304  Тужикова Ольга Владимировна  2019-07-31       06661   \n",
      "4519339      Соловьева Ольга Юрьевна  2019-08-30       02634   \n",
      "6138701                       DAEMON  2019-11-15         5.0   \n",
      "6138703                       DAEMON  2019-11-15         4.0   \n",
      "6157480      Соловьева Ольга Юрьевна  2019-11-26  19001948.0   \n",
      "6157481      Соловьева Ольга Юрьевна  2019-11-26  19001950.0   \n",
      "6270090                       DAEMON  2019-11-15   4080429.0   \n",
      "\n",
      "                      Счет Дт  \\\n",
      "1196     60323810500008999999   \n",
      "3887647  60323810200000003044   \n",
      "3888265  70606810810004730520   \n",
      "3888269  70606810810004730520   \n",
      "3888271  70606810810004730520   \n",
      "3888295  70606810910004730420   \n",
      "3888304  70606810910004730420   \n",
      "4519339  70602810510002151201   \n",
      "6138701  30302810932790000045   \n",
      "6138703  30302810932790000045   \n",
      "6157480  70602810510002151201   \n",
      "6157481  70602810510002151201   \n",
      "6270090  99999810479450000001   \n",
      "\n",
      "                                      Наменование счета ДТ  \\\n",
      "1196        Расчеты с прочими дебиторами. Пр.пер. на МСФО9   \n",
      "3887647                                 ОООРОСТ ИНВЕСТИЦИИ   \n",
      "3888265  Корректировки, увеличивающие операционные расх...   \n",
      "3888269  Корректировки, увеличивающие операционные расх...   \n",
      "3888271  Корректировки, увеличивающие операционные расх...   \n",
      "3888295   Резерв 611П. Пр. Дебиторск.задолженн.,не % доход   \n",
      "3888304   Резерв 611П. Пр. Дебиторск.задолженн.,не % доход   \n",
      "4519339  Доходы (кроме процентных) от переоценки прочих...   \n",
      "6138701     ВНУТРИБАНКОВСКИЕ ТРЕБОВАНИЯ ГО К Ф. В Г.МОСКВА   \n",
      "6138703     ВНУТРИБАНКОВСКИЕ ТРЕБОВАНИЯ ГО К Ф. В Г.МОСКВА   \n",
      "6157480  Доходы (кроме процентных) от переоценки прочих...   \n",
      "6157481  Доходы (кроме процентных) от переоценки прочих...   \n",
      "6270090  Счет для корреспонденции с активными счетами п...   \n",
      "\n",
      "                 Наменование клиента ДТ  ...  \\\n",
      "1196                                NaN  ...   \n",
      "3887647              ОООРОСТ ИНВЕСТИЦИИ  ...   \n",
      "3888265                             NaN  ...   \n",
      "3888269                             NaN  ...   \n",
      "3888271                             NaN  ...   \n",
      "3888295                             NaN  ...   \n",
      "3888304                             NaN  ...   \n",
      "4519339                             NaN  ...   \n",
      "6138701  Ф-Л БАНКАТРАСТ(ПАО) В Г.МОСКВА  ...   \n",
      "6138703  Ф-Л БАНКАТРАСТ(ПАО) В Г.МОСКВА  ...   \n",
      "6157480                             NaN  ...   \n",
      "6157481                             NaN  ...   \n",
      "6270090                             NaN  ...   \n",
      "\n",
      "                                       Назначение операции    Кат  \\\n",
      "1196     Отрицательная разница между справедливой стоим...  5       \n",
      "3887647  Восстановление размера Уставного капитала ОООР...  5       \n",
      "3888265                  Корректировка ОРПКУ на 01.08.2019  5       \n",
      "3888269                         Создан ОРПКУ на 01.08.2019  5       \n",
      "3888271                         Создан ОРПКУ на 01.08.2019  5       \n",
      "3888295         Корректировка по счету 6032381083000003046  5       \n",
      "3888304  Корректировка суммы резерва по счёту 603238102...  5       \n",
      "4519339  Корректировка справедливой стоимости по МСФО н...  5       \n",
      "6138701  Взыск д/с по ИЛ серии ФС N033067801 выд 18.07....  4       \n",
      "6138703  Взыск д/с по ИЛ серии ФС N033067801 выд 18.07....  4       \n",
      "6157480  ИП - корректировка справедливой стоимости на 1...  5       \n",
      "6157481  ИП - корректировка справедливой стоимости на 1...  5       \n",
      "6270090  Оплата К-2 док. N 5 от 15/11/2019 на cумму 915...  68      \n",
      "\n",
      "             Документ   1   2 accountDT2level accountKT2level     Month  \\\n",
      "1196     1.262526e+09 NaN NaN           60323           60220   January   \n",
      "3887647  1.275730e+09 NaN NaN           60323           60202      July   \n",
      "3888265  1.275731e+09 NaN NaN           70606           60213      July   \n",
      "3888269  1.275885e+09 NaN NaN           70606           60352      July   \n",
      "3888271  1.275941e+09 NaN NaN           70606           60352      July   \n",
      "3888295  1.275884e+09 NaN NaN           70606           60324      July   \n",
      "3888304  1.275883e+09 NaN NaN           70606           60324      July   \n",
      "4519339  1.277947e+09 NaN NaN           70602           60221    August   \n",
      "6138701  1.281564e+09 NaN NaN           30302           60323  November   \n",
      "6138703  1.281564e+09 NaN NaN           30302           60323  November   \n",
      "6157480  1.281929e+09 NaN NaN           70602           60220  November   \n",
      "6157481  1.281929e+09 NaN NaN           70602           60221  November   \n",
      "6270090  1.281564e+09 NaN NaN           99999           90902  November   \n",
      "\n",
      "         Unnamed: 0      Дата1  \n",
      "1196            NaN 2019-01-01  \n",
      "3887647     67376.0 2019-07-31  \n",
      "3888265     68409.0 2019-07-31  \n",
      "3888269     68413.0 2019-07-31  \n",
      "3888271     68415.0 2019-07-31  \n",
      "3888295     68454.0 2019-07-31  \n",
      "3888304     68464.0 2019-07-31  \n",
      "4519339         NaN 2019-08-30  \n",
      "6138701     61313.0 2019-11-15  \n",
      "6138703     61317.0 2019-11-15  \n",
      "6157480    106930.0 2019-11-26  \n",
      "6157481    106932.0 2019-11-26  \n",
      "6270090    317940.0 2019-11-15  \n",
      "\n",
      "[13 rows x 29 columns]>\n",
      "Wall time: 13 ms\n"
     ]
    }
   ],
   "source": [
    "%%time\n",
    "print(df3.head)"
   ]
  },
  {
   "cell_type": "code",
   "execution_count": 13,
   "metadata": {},
   "outputs": [
    {
     "name": "stdout",
     "output_type": "stream",
     "text": [
      "everything saved\n",
      "Wall time: 349 ms\n"
     ]
    }
   ],
   "source": [
    "%%time\n",
    "df3.to_excel(drive + r'\\Files\\3279\\2020\\Code\\Transactions\\!_ready\\\\' + str(\"transactions_description2\") + '.xlsx', engine='xlsxwriter')\n",
    "#df3.to_csv(drive + r'\\Files\\3279\\2020\\Code\\Transactions\\!_ready\\\\' + str(\"transactions_description1\") + '.csv', sep = \"\\t\", index = False, encoding = \"cp1251\")\n",
    "print(\"everything saved\")"
   ]
  },
  {
   "cell_type": "markdown",
   "metadata": {},
   "source": [
    "Search by amount:"
   ]
  },
  {
   "cell_type": "code",
   "execution_count": null,
   "metadata": {},
   "outputs": [],
   "source": [
    "%%time\n",
    "amount1 = 26549375.22\n",
    "\n",
    "df4 = df[df['Сумма в руб. экв. ДТ'] == amount1]\n",
    "\n",
    "print(df4.shape)"
   ]
  },
  {
   "cell_type": "code",
   "execution_count": null,
   "metadata": {},
   "outputs": [],
   "source": [
    "%%time\n",
    "df4.to_excel(drive + r'\\Files\\3279\\2020\\Code\\Transactions\\!_ready\\\\' + str(\"amount\") + '.xlsx', engine='xlsxwriter')\n",
    "print(\"everything saved\")"
   ]
  },
  {
   "cell_type": "code",
   "execution_count": null,
   "metadata": {},
   "outputs": [],
   "source": [
    "%%time\n",
    "#df['accountKT2level'] = df['Счет Кт'].astype(float).str[0:5]\n",
    "#df2 = df[df['accountKT2level'] == \"ВНУТР\"]\n",
    "print(df.head())"
   ]
  },
  {
   "cell_type": "code",
   "execution_count": null,
   "metadata": {},
   "outputs": [],
   "source": [
    "# print(df['accountDT2level'].count())\n",
    "# print(df['accountKT2level'].count())\n",
    "print(df['accountDT2level'].describe())\n",
    "print(df['accountKT2level'].describe())"
   ]
  },
  {
   "cell_type": "code",
   "execution_count": null,
   "metadata": {},
   "outputs": [],
   "source": [
    "%%time\n",
    "print(df.info())\n",
    "#df.to_html(drive + r'\\Files\\3279\\2020\\Code\\Transactions\\csv\\common.html')"
   ]
  },
  {
   "cell_type": "markdown",
   "metadata": {},
   "source": [
    "Search by list of accounts"
   ]
  },
  {
   "cell_type": "code",
   "execution_count": null,
   "metadata": {},
   "outputs": [],
   "source": [
    "%%time\n",
    "import csv\n",
    "with open(drive + r'\\Files\\3279\\2020\\Code\\Transactions\\OH.csv', 'r') as f:\n",
    "    reader = csv.reader(f)\n",
    "    uids = (line.strip() for line in f)\n",
    "    search = list(uids)\n",
    "# df_search = pd.read_csv(drive + r'\\Files\\3279\\2020\\Code\\Transactions\\analysis\\accounts_transactions.csv', low_memory = False)\n",
    "# search = df_search.values.tolist()\n",
    "print(search)"
   ]
  },
  {
   "cell_type": "code",
   "execution_count": 6,
   "metadata": {},
   "outputs": [],
   "source": [
    "search = ['40702810879450006896']"
   ]
  },
  {
   "cell_type": "code",
   "execution_count": 7,
   "metadata": {},
   "outputs": [
    {
     "name": "stdout",
     "output_type": "stream",
     "text": [
      "Wall time: 254 ms\n"
     ]
    }
   ],
   "source": [
    "%%time\n",
    "df_result1 = df[df['Счет Кт'].isin(search)]\n",
    "df_result2 = df[df['Счет Дт'].isin(search)]"
   ]
  },
  {
   "cell_type": "code",
   "execution_count": 8,
   "metadata": {},
   "outputs": [
    {
     "name": "stdout",
     "output_type": "stream",
     "text": [
      "2020-04-20_17-25\n",
      "start saving files\n",
      "first file had been saved\n",
      "everything had been saved\n",
      "Wall time: 387 ms\n"
     ]
    }
   ],
   "source": [
    "%%time\n",
    "\n",
    "now = datetime.datetime.now().strftime(\"%Y-%m-%d_%H-%M\")\n",
    "print(now)\n",
    "print(\"start saving files\")\n",
    "df_result2.to_excel(drive + r'\\Files\\3279\\2020\\Code\\Transactions\\!_ready\\\\' + str('search') + '_'+ now + '_DT' + '.xlsx', engine='xlsxwriter')\n",
    "print(\"first file had been saved\")\n",
    "df_result1.to_excel(drive + r'\\Files\\3279\\2020\\Code\\Transactions\\!_ready\\\\' + str('search') + '_'+ now + '_KT' + '.xlsx', engine='xlsxwriter')\n",
    "print(\"everything had been saved\")"
   ]
  },
  {
   "cell_type": "code",
   "execution_count": 10,
   "metadata": {},
   "outputs": [
    {
     "name": "stdout",
     "output_type": "stream",
     "text": [
      "(0, 29)\n",
      "(13, 29)\n",
      "<class 'pandas.core.frame.DataFrame'>\n",
      "Int64Index: 0 entries\n",
      "Data columns (total 29 columns):\n",
      " #   Column                  Non-Null Count  Dtype         \n",
      "---  ------                  --------------  -----         \n",
      " 0   №                       0 non-null      float64       \n",
      " 1   spare                   0 non-null      object        \n",
      " 2   Фил                     0 non-null      int64         \n",
      " 3   Исполнитель             0 non-null      object        \n",
      " 4   Создатель               0 non-null      object        \n",
      " 5   Дата                    0 non-null      object        \n",
      " 6   № док-та                0 non-null      object        \n",
      " 7   Счет Дт                 0 non-null      object        \n",
      " 8   Наменование счета ДТ    0 non-null      object        \n",
      " 9   Наменование клиента ДТ  0 non-null      object        \n",
      " 10  ИНН клиента ДТ          0 non-null      object        \n",
      " 11  Сумма в ном. ДТ         0 non-null      float64       \n",
      " 12  Сумма в руб. экв. ДТ    0 non-null      float64       \n",
      " 13  Счет Кт                 0 non-null      object        \n",
      " 14  Наменование счета КТ    0 non-null      object        \n",
      " 15  Наменование клиента КТ  0 non-null      object        \n",
      " 16  ИНН клиента КТ          0 non-null      object        \n",
      " 17  Сумма в ном. КТ         0 non-null      float64       \n",
      " 18  Сумма в руб. экв. КТ    0 non-null      float64       \n",
      " 19  Назначение операции     0 non-null      object        \n",
      " 20  Кат                     0 non-null      object        \n",
      " 21  Документ                0 non-null      float64       \n",
      " 22  1                       0 non-null      float64       \n",
      " 23  2                       0 non-null      float64       \n",
      " 24  accountDT2level         0 non-null      int64         \n",
      " 25  accountKT2level         0 non-null      int64         \n",
      " 26  Month                   0 non-null      object        \n",
      " 27  Unnamed: 0              0 non-null      float64       \n",
      " 28  Дата1                   0 non-null      datetime64[ns]\n",
      "dtypes: datetime64[ns](1), float64(9), int64(3), object(16)\n",
      "memory usage: 0.0+ bytes\n",
      "None\n",
      "Wall time: 4.99 ms\n"
     ]
    }
   ],
   "source": [
    "%%time\n",
    "print(df_result1.shape)\n",
    "print(df_result2.shape)\n",
    "print(df_result1.info())"
   ]
  },
  {
   "cell_type": "code",
   "execution_count": null,
   "metadata": {},
   "outputs": [],
   "source": [
    "df_result1.to_excel(drive + r'\\Files\\3279\\2020\\Code\\Transactions\\analysis\\\\' + str('search_new6') + '.xlsx', engine='xlsxwriter')\n",
    "print(\"everything saved\")"
   ]
  },
  {
   "cell_type": "code",
   "execution_count": null,
   "metadata": {},
   "outputs": [],
   "source": [
    "search1 = ('оплата')\n",
    "search2 = ('494-19/Ц от 02.07.2019')\n",
    "find1 = df['Наменование клиента КТ']\n",
    "find2 = df['Назначение операции']\n",
    "find3 = df['accountKT2level']\n",
    "#df1 = df[[find2 == search2]]\n",
    "#df1 = df[df['accountDT2level'] == 70606]\n",
    "df1 = df[find2.str.contains(str(search2), na=False)]\n",
    "df1.head()"
   ]
  },
  {
   "cell_type": "code",
   "execution_count": null,
   "metadata": {},
   "outputs": [],
   "source": [
    "%%time\n",
    "df['symbolDT'] = df['Счет Дт'].astype(str).str[13:18]\n",
    "df['symbolKT'] = df['Счет Кт'].astype(str).str[13:18]\n",
    "#print(1)\n",
    "df['symbolDT'] = df['symbolDT'].astype(int)\n",
    "#print(2)\n",
    "df['symbolKT'] = df['symbolKT'].astype(int)\n",
    "\n",
    "#pd.to_numeric(df['symbolDT'], errors='coerce')\n",
    "\n",
    "#pd.to_numeric(df['symbolKT'], errors='coerce')\n",
    "#df = df.replace(r'^\\s*$', np.nan, regex=True)\n",
    "#df['accountDT2level2'] = df['accountDT2level2'].astype(int)\n",
    "#df['accountKT2level2'] = df['accountKT2level2'].astype(int)\n",
    "#df['accountKT2level2']= pd.to_numeric(df['accountKT2level2'], errors='coerce')\n",
    "#df['accountKT2level2'] = df['accountKT2level2'].replace(r'^\\s*$', np.nan, regex=True)\n",
    "#df['accountKT2level2'].fillna(0)\n",
    "\n",
    "#df['accountKT2level2'].replace(to_replace='nan', value=0, regex=True)\n",
    "\n",
    "# df['accountKT2level2'] = df['accountKT2level2'].fillna(-1)\n",
    "# df['accountKT2level2'] = df['accountKT2level2'].astype(int)\n",
    "# df['accountKT2level2'] = df['accountKT2level2'].astype(str)\n",
    "# df['accountKT2level2'] = df['accountKT2level2'].replace('-1', np.nan)\n",
    "#df['accountKT2level2'] = df['accountKT2level2'].astype(int)\n",
    "# pd.to_numeric(df['accountDT2level2'], errors='coerce')\n",
    "# pd.to_numeric(df['accountKT2level2'], errors='coerce')"
   ]
  },
  {
   "cell_type": "code",
   "execution_count": null,
   "metadata": {},
   "outputs": [],
   "source": [
    "print(df.describe())"
   ]
  },
  {
   "cell_type": "code",
   "execution_count": null,
   "metadata": {},
   "outputs": [],
   "source": [
    "df['symbolDT'] = df['symbolDT'].astype(int)\n",
    "print(df['Сумма в руб. экв. ДТ'].describe())\n",
    "print(df['Сумма в руб. экв. КТ'].describe())\n",
    "print(df['symbolDT'].describe())\n",
    "print(df['symbolKT'].describe())"
   ]
  },
  {
   "cell_type": "code",
   "execution_count": null,
   "metadata": {},
   "outputs": [],
   "source": []
  },
  {
   "cell_type": "code",
   "execution_count": null,
   "metadata": {},
   "outputs": [],
   "source": [
    "%%time\n",
    "account1 = 30305\n",
    "account2 = account1\n",
    "df1 = df[df['accountDT2level'] == account1]\n",
    "df2 = df[df['accountKT2level'] == account1]\n",
    "print(df1.shape)\n",
    "print(df2.shape)"
   ]
  },
  {
   "cell_type": "markdown",
   "metadata": {},
   "source": [
    "selection of multiple accounts"
   ]
  },
  {
   "cell_type": "code",
   "execution_count": null,
   "metadata": {},
   "outputs": [],
   "source": [
    "accounts = ['45816810000003037118','45816810200003037125',\n",
    "            '45816810500305003081','45816810000450000471',\n",
    "            '45816810100450000481','45816810200450000459',\n",
    "            '45816810300450000388','45816810600450000415',\n",
    "            '45816810800450000435','45816840700450000372',\n",
    "            '45816840900450000347','45916810000450000481',\n",
    "            '45916810100450000459','45916810200450000388',\n",
    "            '45916810500450000415','45916810700450000435',\n",
    "            '45916810900450000471','45916840600450000372',\n",
    "            '45916840800450000347','60323810050450000481',\n",
    "            '60323810150450000459','60323810250450000388',\n",
    "            '60323810550450000415','60323810750450000435',\n",
    "            '60323810940450000481','60323810950450000471',\n",
    "            '60323840650450000372','60323840850450000347']\n",
    "\n",
    "df1 = df[df['Счет Дт'].isin(accounts)]\n",
    "print(df1.shape)\n",
    "df1.to_excel(drive + r'\\Files\\3279\\2020\\Code\\Transactions\\!_ready\\\\' + 'selection' + '.xlsx')"
   ]
  },
  {
   "cell_type": "code",
   "execution_count": null,
   "metadata": {},
   "outputs": [],
   "source": [
    "%%time\n",
    "print(\"start saving files\")\n",
    "df1.to_excel(drive + r'\\Files\\3279\\2020\\Code\\Transactions\\!_ready\\\\' + str(account1)+ 'DT' + '.xlsx', engine='xlsxwriter')\n",
    "print(\"first file had been saved\")\n",
    "df2.to_excel(drive + r'\\Files\\3279\\2020\\Code\\Transactions\\!_ready\\\\' + str(account2)+ 'KT' + '.xlsx', engine='xlsxwriter')\n",
    "print(\"everything saved\")]"
   ]
  },
  {
   "cell_type": "markdown",
   "metadata": {},
   "source": [
    "bad selection by symbols"
   ]
  },
  {
   "cell_type": "code",
   "execution_count": null,
   "metadata": {},
   "outputs": [],
   "source": [
    "%%time\n",
    "#symbol = 48414\n",
    "symbol = ['26210']\n",
    "df1 = df[df['symbolDT'].isin(symbol)]\n",
    "df2 = df[df['symbolЛT'].isin(symbol)]\n",
    "print(df1.shape)"
   ]
  },
  {
   "cell_type": "code",
   "execution_count": null,
   "metadata": {},
   "outputs": [],
   "source": [
    "print(df1['Счет Кт'].head())\n",
    "print(df1['symbolKT'].head())"
   ]
  },
  {
   "cell_type": "code",
   "execution_count": null,
   "metadata": {},
   "outputs": [],
   "source": [
    "df1.to_excel(drive + r'\\Files\\3279\\2020\\Code\\Transactions\\!_ready\\\\' + str(131) + '.xlsx')"
   ]
  },
  {
   "cell_type": "markdown",
   "metadata": {},
   "source": [
    "working selection by symbols"
   ]
  },
  {
   "cell_type": "code",
   "execution_count": 3,
   "metadata": {},
   "outputs": [
    {
     "name": "stdout",
     "output_type": "stream",
     "text": [
      "Wall time: 6.55 s\n"
     ]
    }
   ],
   "source": [
    "%%time\n",
    "df['sym_DT'] = df['Счет Дт'].astype(str).str[13:18].astype(int)\n",
    "df['sym_KT'] = df['Счет Кт'].astype(str).str[13:18].astype(int)"
   ]
  },
  {
   "cell_type": "code",
   "execution_count": 18,
   "metadata": {},
   "outputs": [
    {
     "name": "stdout",
     "output_type": "stream",
     "text": [
      "(0, 31)\n",
      "(3886, 31)\n",
      "Wall time: 16.5 ms\n"
     ]
    }
   ],
   "source": [
    "%%time\n",
    "symbol1 = 23102\n",
    "symbol2 = symbol1\n",
    "df1 = df[df['sym_DT'] == symbol1]\n",
    "df2 = df[df['sym_KT'] == symbol2]\n",
    "print(df1.shape)\n",
    "print(df2.shape)"
   ]
  },
  {
   "cell_type": "code",
   "execution_count": 19,
   "metadata": {},
   "outputs": [
    {
     "name": "stdout",
     "output_type": "stream",
     "text": [
      "start saving files\n",
      "first file had been saved\n",
      "everything had been saved\n",
      "Wall time: 1.46 s\n"
     ]
    }
   ],
   "source": [
    "%%time\n",
    "print(\"start saving files\")\n",
    "df1.to_excel(drive + r'\\Files\\3279\\2020\\Code\\Transactions\\!_ready\\\\' + str(symbol1)+ '_DT' + '.xlsx', engine='xlsxwriter')\n",
    "print(\"first file had been saved\")\n",
    "df2.to_excel(drive + r'\\Files\\3279\\2020\\Code\\Transactions\\!_ready\\\\' + str(symbol2)+ '_KT' + '.xlsx', engine='xlsxwriter')\n",
    "print(\"everything had been saved\")"
   ]
  },
  {
   "cell_type": "markdown",
   "metadata": {},
   "source": [
    "working selection by accounts 1st level"
   ]
  },
  {
   "cell_type": "code",
   "execution_count": null,
   "metadata": {},
   "outputs": [],
   "source": [
    "%%time\n",
    "df['acc_DTii'] = df['Счет Дт'].astype(str).str[:3].astype(int)\n",
    "df['acc_KTii'] = df['Счет Кт'].astype(str).str[:3].astype(int)"
   ]
  },
  {
   "cell_type": "code",
   "execution_count": null,
   "metadata": {},
   "outputs": [],
   "source": [
    "%%time\n",
    "account1 = 603\n",
    "account2 = account1\n",
    "df1 = df[df['acc_DTii'] == account1]\n",
    "df2 = df[df['acc_KTii'] == account2]\n",
    "print(df1.shape)\n",
    "print(df2.shape)"
   ]
  },
  {
   "cell_type": "code",
   "execution_count": null,
   "metadata": {},
   "outputs": [],
   "source": [
    "%%time\n",
    "print(\"start saving files\")\n",
    "df1.to_excel(drive + r'\\Files\\3279\\2020\\Code\\Transactions\\!_ready\\\\' + str(account1)+ '_DT' + '.xlsx', engine='xlsxwriter')\n",
    "print(\"first file had been saved\")\n",
    "df2.to_excel(drive + r'\\Files\\3279\\2020\\Code\\Transactions\\!_ready\\\\' + str(account2)+ '_KT' + '.xlsx', engine='xlsxwriter')\n",
    "print(\"everything had been saved\")"
   ]
  },
  {
   "cell_type": "code",
   "execution_count": null,
   "metadata": {},
   "outputs": [],
   "source": [
    "df.head()"
   ]
  },
  {
   "cell_type": "markdown",
   "metadata": {},
   "source": [
    "Several symbols selection"
   ]
  },
  {
   "cell_type": "markdown",
   "metadata": {},
   "source": [
    "### "
   ]
  },
  {
   "cell_type": "code",
   "execution_count": null,
   "metadata": {},
   "outputs": [],
   "source": []
  },
  {
   "cell_type": "code",
   "execution_count": 15,
   "metadata": {},
   "outputs": [
    {
     "name": "stdout",
     "output_type": "stream",
     "text": [
      "ptocessing DT turnovers\n",
      "symbol: 11106\n",
      "symbol: 11111\n",
      "symbol: 11112\n",
      "symbol: 11113\n",
      "symbol: 11114\n",
      "symbol: 11115\n",
      "symbol: 11116\n",
      "symbol: 11118\n",
      "found as many accounts as 956\n",
      "now is 2020-03-16_10-09\n",
      "ready\n",
      "Wall time: 6.29 s\n"
     ]
    }
   ],
   "source": [
    "%%time\n",
    "\n",
    "\n",
    "def iterate_over_symbols(df, symbol, side):\n",
    "    if side == 'DT':\n",
    "        df_new = df[df['sym_DT'] == symbol]\n",
    "        df_new = df_new[df_new['accountDT2level'] == 70601]\n",
    "    elif side == 'KT':\n",
    "        df_new = df[df['sym_KT'] == symbol]\n",
    "        df_new = df_new[df_new['accountKT2level'] == 70601] \n",
    "    return df_new\n",
    "\n",
    "now = datetime.datetime.now().strftime(\"%Y-%m-%d_%H-%M\")\n",
    "df_selected = pd.DataFrame()\n",
    "side = 'KT'\n",
    "df['sym_DT'] = df['Счет Дт'].astype(str).str[13:18].astype(int)\n",
    "df['sym_KT'] = df['Счет Кт'].astype(str).str[13:18].astype(int)\n",
    "\n",
    "if side ==  'KT':  \n",
    "    with open(drive + r'\\Files\\3279\\2020\\Code\\symbols_interest_income1.csv', 'r') as f:\n",
    "        reader = csv.reader(f)\n",
    "        uids = (line.strip() for line in f)\n",
    "        symbol_list = list(uids)[1:]\n",
    "if side ==  'DT': \n",
    "    with open(drive + r'\\Files\\3279\\2020\\Code\\symbols_interest_income1.csv', 'r') as f:\n",
    "        reader = csv.reader(f)\n",
    "        uids = (line.strip() for line in f)\n",
    "        symbol_list = list(uids)[1:]\n",
    "\n",
    "\n",
    "# df1 = df[df['sym_DT'] == symbol]\n",
    "if side == 'KT':\n",
    "    print('ptocessing KT turnovers')\n",
    "    for symbol in symbol_list:\n",
    "        df_selected = df_selected.append(iterate_over_symbols(df,int(symbol),side), ignore_index=True, sort=False)\n",
    "\n",
    "    list_of_accounts = df_selected['Счет Дт'].drop_duplicates(keep='first', inplace=False).tolist()\n",
    "    print('found as many accounts as', len(list_of_accounts))\n",
    "#     df_result = df[df['Счет Кт'].isin(list_of_accounts)]\n",
    "    result = df_selected\n",
    "#     result = df_result.groupby(['accountDT2level','accountKT2level'])['Сумма в руб. экв. ДТ'].sum()\n",
    "#     result_count = df_result.groupby(['accountDT2level','accountKT2level'])['Сумма в руб. экв. ДТ'].count()\n",
    "\n",
    "    print('now is', now)\n",
    "    result.to_excel(drive + r'\\Files\\3279\\2020\\Code\\Transactions\\!_ready\\\\' + str('result_706_income') + '_'+ now + '.xlsx', engine='xlsxwriter')\n",
    "#     result_count.to_excel(drive + r'\\Files\\3279\\2020\\Code\\Transactions\\!_ready\\\\' + str('result_706_income_count') + '_'+ now + '.xlsx', engine='xlsxwriter')\n",
    "    print('ready')\n",
    "\n",
    "if side == 'DT':\n",
    "    print('ptocessing DT turnovers')\n",
    "    for symbol in symbol_list:\n",
    "        print('symbol:',symbol)\n",
    "        df_selected = df_selected.append(iterate_over_symbols(df,int(symbol),side), ignore_index=True, sort=False)\n",
    "        list_of_accounts = df_selected['Счет Кт'].drop_duplicates(keep='first', inplace=False).tolist()\n",
    "    print('found as many accounts as', len(list_of_accounts))\n",
    "    result = df_selected\n",
    "#     df_result = df[df['Счет Дт'].isin(list_of_accounts)]\n",
    "#     result = df_result.groupby(['accountKT2level','accountDT2level'])['Сумма в руб. экв. КТ'].sum()\n",
    "#     result_count = df_result.groupby(['accountKT2level','accountDT2level'])['Сумма в руб. экв. КТ'].count()\n",
    "\n",
    "    print('now is', now)\n",
    "    result.to_excel(drive + r'\\Files\\3279\\2020\\Code\\Transactions\\!_ready\\\\' + str('result_706_exp') + '_'+ now + '.xlsx', engine='xlsxwriter')\n",
    "#     result_count.to_excel(drive + r'\\Files\\3279\\2020\\Code\\Transactions\\!_ready\\\\' + str('result_706_exp_count') + '_'+ now + '.xlsx', engine='xlsxwriter')\n",
    "    print('ready')"
   ]
  },
  {
   "cell_type": "code",
   "execution_count": 12,
   "metadata": {},
   "outputs": [
    {
     "data": {
      "text/html": [
       "<div>\n",
       "<style scoped>\n",
       "    .dataframe tbody tr th:only-of-type {\n",
       "        vertical-align: middle;\n",
       "    }\n",
       "\n",
       "    .dataframe tbody tr th {\n",
       "        vertical-align: top;\n",
       "    }\n",
       "\n",
       "    .dataframe thead th {\n",
       "        text-align: right;\n",
       "    }\n",
       "</style>\n",
       "<table border=\"1\" class=\"dataframe\">\n",
       "  <thead>\n",
       "    <tr style=\"text-align: right;\">\n",
       "      <th></th>\n",
       "      <th>№</th>\n",
       "      <th>spare</th>\n",
       "      <th>Фил</th>\n",
       "      <th>Исполнитель</th>\n",
       "      <th>Создатель</th>\n",
       "      <th>Дата</th>\n",
       "      <th>№ док-та</th>\n",
       "      <th>Счет Дт</th>\n",
       "      <th>Наменование счета ДТ</th>\n",
       "      <th>Наменование клиента ДТ</th>\n",
       "      <th>...</th>\n",
       "      <th>Документ</th>\n",
       "      <th>1</th>\n",
       "      <th>2</th>\n",
       "      <th>accountDT2level</th>\n",
       "      <th>accountKT2level</th>\n",
       "      <th>Month</th>\n",
       "      <th>Unnamed: 0</th>\n",
       "      <th>Дата1</th>\n",
       "      <th>sym_DT</th>\n",
       "      <th>sym_KT</th>\n",
       "    </tr>\n",
       "  </thead>\n",
       "  <tbody>\n",
       "  </tbody>\n",
       "</table>\n",
       "<p>0 rows × 31 columns</p>\n",
       "</div>"
      ],
      "text/plain": [
       "Empty DataFrame\n",
       "Columns: [№, spare, Фил, Исполнитель, Создатель, Дата, № док-та, Счет Дт, Наменование счета ДТ, Наменование клиента ДТ, ИНН клиента ДТ, Сумма в ном. ДТ, Сумма в руб. экв. ДТ, Счет Кт, Наменование счета КТ, Наменование клиента КТ, ИНН клиента КТ, Сумма в ном. КТ, Сумма в руб. экв. КТ, Назначение операции, Кат, Документ, 1, 2, accountDT2level, accountKT2level, Month, Unnamed: 0, Дата1, sym_DT, sym_KT]\n",
       "Index: []\n",
       "\n",
       "[0 rows x 31 columns]"
      ]
     },
     "execution_count": 12,
     "metadata": {},
     "output_type": "execute_result"
    }
   ],
   "source": [
    "df_selected.head()"
   ]
  },
  {
   "cell_type": "code",
   "execution_count": null,
   "metadata": {},
   "outputs": [],
   "source": [
    "list_of_accounts = df_selected['Счет Дт'].drop_duplicates(keep='first', inplace=False).tolist()\n",
    "\n",
    "print(len(list_of_accounts))\n",
    "\n",
    "df_result = df[df['Счет Кт'].isin(list_of_accounts)]"
   ]
  },
  {
   "cell_type": "code",
   "execution_count": null,
   "metadata": {},
   "outputs": [],
   "source": [
    "if side == 'KT':\n",
    "    result = df_result.groupby(['accountDT2level','accountKT2level'])['Сумма в руб. экв. ДТ'].sum()\n",
    "    result_count = df_result.groupby(['accountDT2level','accountKT2level'])['Сумма в руб. экв. ДТ'].count()\n",
    "    print('done KT')\n",
    "\n",
    "if side == 'DT':\n",
    "    result = df_result.groupby(['accountKT2level','accountDT2level'])['Сумма в руб. экв. КТ'].sum()\n",
    "    result_count = df_result.groupby(['accountKT2level','accountDT2level'])['Сумма в руб. экв. КТ'].count()\n",
    "    print('done DT')\n",
    "    "
   ]
  },
  {
   "cell_type": "code",
   "execution_count": null,
   "metadata": {},
   "outputs": [],
   "source": [
    "%%time\n",
    "\n",
    "now = datetime.datetime.now().strftime(\"%Y-%m-%d_%H-%M\")\n",
    "print(now)\n",
    "result.to_excel(drive + r'\\Files\\3279\\2020\\Code\\Transactions\\!_ready\\\\' + str('result') + '_'+ now + '.xlsx', engine='xlsxwriter')\n",
    "result_count.to_excel(drive + r'\\Files\\3279\\2020\\Code\\Transactions\\!_ready\\\\' + str('result_count') + '_'+ now + '.xlsx', engine='xlsxwriter')\n",
    "print('ready')"
   ]
  },
  {
   "cell_type": "code",
   "execution_count": null,
   "metadata": {},
   "outputs": [],
   "source": [
    "%%time\n",
    "if side== 'KT':\n",
    "    print('processing KT')\n",
    "    now = datetime.datetime.now().strftime(\"%Y-%m-%d_%H-%M\")\n",
    "    selected_data = pd.DataFrame()\n",
    "    list_of_accounts=[(30102, 47422),\n",
    "                      (30102, 47427),\n",
    "                      (30110, 47423),\n",
    "                      (30110, 47427),\n",
    "                      (30302, 47422),\n",
    "                      (30302, 47427),\n",
    "                      (30306, 47422),\n",
    "                      (30306, 47427),\n",
    "                      (30402, 50104),\n",
    "                      (40701, 47427),\n",
    "                      (40702, 47427),\n",
    "                      (40802, 47427),\n",
    "                      (40817, 45915),\n",
    "                      (40817, 47427),\n",
    "                      (40817, 61212),\n",
    "                      (40817, 70601),\n",
    "                      (42307, 47427),\n",
    "                      (42307, 61212),\n",
    "                      (47422, 47423),\n",
    "                      (47422, 47427),\n",
    "                      (47422, 61212),\n",
    "                      (60322, 47427),\n",
    "                      (61210, 50107),\n",
    "                      (61210, 51214),\n",
    "                      (61212, 47427),\n",
    "                      (61214, 45915),\n",
    "                      (61214, 47427)]\n",
    "    for DT_account, KT_account  in list_of_accounts:\n",
    "        selected_data_temp = df_result.loc[(df_result['accountDT2level'] == DT_account) & (df_result['accountKT2level'] == KT_account)]\n",
    "        selected_data = selected_data.append(selected_data_temp)\n",
    "\n",
    "    selected_data.info()\n",
    "    selected_data.to_excel(drive + r'\\Files\\3279\\2020\\Code\\Transactions\\!_ready\\\\' + str('selected_data') + '_'+ now + '.xlsx', engine='xlsxwriter')\n",
    "    print('done KT')\n",
    "if side == 'DT':\n",
    "    print('processing DT')\n",
    "    now = datetime.datetime.now().strftime(\"%Y-%m-%d_%H-%M\")\n",
    "    selected_data = pd.DataFrame()\n",
    "    list_of_accounts=[(20202, 40817),\n",
    "                      (20202, 42301),\n",
    "                      (20202, 47422),\n",
    "                      (30102, 47426),\n",
    "                      (30110, 47426),\n",
    "                      (30114, 47426),\n",
    "                      (30222, 40817),\n",
    "                      (30222, 42301),\n",
    "                      (30232, 40817),\n",
    "                      (30233, 40817),\n",
    "                      (30301, 40817),\n",
    "                      (30301, 42301),\n",
    "                      (30305, 47422),\n",
    "                      (30305, 47426),\n",
    "                      (40702, 47426),\n",
    "                      (40703, 74726),                     \n",
    "                      (40705, 47426),\n",
    "                      (40802, 47426),\n",
    "                      (40807, 47426),\n",
    "                      (40817, 47411),\n",
    "                      (40820, 47411),\n",
    "                      (42301, 47411),\n",
    "                      (42301, 47422),\n",
    "                      (42303, 47411),\n",
    "                      (42304, 47411),\n",
    "                      (42305, 47411),\n",
    "                      (42306, 47411),\n",
    "                      (42307, 47411),\n",
    "                      (42308, 47411),\n",
    "                      (42601, 47411),\n",
    "                      (42605, 47411),\n",
    "                      (42606, 47411),\n",
    "                      (42607, 47411),\n",
    "                      (42609, 47411),\n",
    "                      (60301, 47426)]\n",
    "    for KT_account, DT_account  in list_of_accounts:\n",
    "        selected_data_temp = df_result.loc[(df_result['accountDT2level'] == DT_account) & (df_result['accountKT2level'] == KT_account)]\n",
    "        selected_data = selected_data.append(selected_data_temp)\n",
    "\n",
    "    selected_data.info()\n",
    "    selected_data.to_excel(drive + r'\\Files\\3279\\2020\\Code\\Transactions\\!_ready\\\\' + str('selected_data') + '_'+ now + '.xlsx', engine='xlsxwriter')\n",
    "    print('done DT')"
   ]
  },
  {
   "cell_type": "code",
   "execution_count": null,
   "metadata": {},
   "outputs": [],
   "source": [
    "%%time\n",
    "now = datetime.datetime.now().strftime(\"%Y-%m-%d_%H-%M\")\n",
    "selected_data = pd.DataFrame()\n",
    "list_of_accounts=[(47426, 30102)]\n",
    "for DT_account, KT_account  in list_of_accounts:\n",
    "    selected_data_temp = df_result.loc[(df_result['accountDT2level'] == DT_account) & (df_result['accountKT2level'] == KT_account)]\n",
    "    selected_data = selected_data.append(selected_data_temp)\n",
    "\n",
    "selected_data.info()\n",
    "selected_data.to_excel(drive + r'\\Files\\3279\\2020\\Code\\Transactions\\!_ready\\\\' + str('selected_data') + '_'+ now + '.xlsx', engine='xlsxwriter')\n",
    "print('done')"
   ]
  },
  {
   "cell_type": "code",
   "execution_count": null,
   "metadata": {},
   "outputs": [],
   "source": []
  }
 ],
 "metadata": {
  "kernelspec": {
   "display_name": "Python 3",
   "language": "python",
   "name": "python3"
  },
  "language_info": {
   "codemirror_mode": {
    "name": "ipython",
    "version": 3
   },
   "file_extension": ".py",
   "mimetype": "text/x-python",
   "name": "python",
   "nbconvert_exporter": "python",
   "pygments_lexer": "ipython3",
   "version": "3.8.2"
  }
 },
 "nbformat": 4,
 "nbformat_minor": 4
}
