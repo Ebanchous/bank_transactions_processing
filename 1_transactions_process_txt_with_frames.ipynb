{
 "cells": [
  {
   "cell_type": "markdown",
   "metadata": {},
   "source": [
    "1. Load file and delete \"------\" from file, save to different one"
   ]
  },
  {
   "cell_type": "code",
   "execution_count": 26,
   "metadata": {},
   "outputs": [
    {
     "name": "stdout",
     "output_type": "stream",
     "text": [
      "479773 total lines\n",
      "first part\n",
      "lines written:  100000\n",
      "lines written:  200000\n",
      "lines written:  300000\n",
      "316625 total lines written\n",
      "Wall time: 7.02 s\n"
     ]
    }
   ],
   "source": [
    "%%time\n",
    "import string, re, os, csv, codecs\n",
    "\n",
    "import pandas as pd\n",
    "import numpy as np\n",
    "\n",
    "month = '05'\n",
    "attempt = '1'\n",
    "df = pd.DataFrame()\n",
    "lines_written = 0\n",
    "file = (r'G:\\Files\\3279\\2020\\Code\\Transactions\\transactions_' + month +'-2020.txt')\n",
    "(drive, path) = os.path.splitdrive(file)\n",
    "file_new = (r'G:\\Files\\3279\\2020\\Code\\Transactions\\transactions_' + month +'-2020-' + attempt +'.txt')\n",
    "file = open(file, mode = 'r')\n",
    "with open(r'G:\\Files\\3279\\2020\\Code\\Transactions\\transactions_' + month +'-2020.txt') as myfile:\n",
    "    count = sum(1 for line in myfile)\n",
    "    print(count, \"total lines\")\n",
    "lines = file.readlines()\n",
    "file.close()\n",
    "f = open(file_new, \"w\")\n",
    "\n",
    "if int(attempt) == 1:\n",
    "    print('first part')\n",
    "    for i, line in enumerate (lines[7:1300000]):\n",
    "        if \"--------\" not in line:\n",
    "            #f.write(line_processing(line))\n",
    "            line = line.replace('= ', ' ')\n",
    "            line = line.replace(';', ' ')\n",
    "            line = line.replace('\"', ' ')\n",
    "#            line = line.replace('/', ' ')\n",
    "#             line = line.replace('\\r\\n', 'gggggg')\n",
    "#             line = line.replace('\\n', ' ')\n",
    "#             line = line.replace('gggggg', '\\r\\n')\n",
    "            f.write(line)\n",
    "            lines_written += 1\n",
    "            if lines_written % 100000 == 0:\n",
    "                print(\"lines written: \", lines_written)\n",
    "if int(attempt) == 2:\n",
    "    print('second part')\n",
    "    for i, line in enumerate (lines[1300000:]):\n",
    "        if \"--------\" not in line:\n",
    "            #f.write(line_processing(line))\n",
    "            line = line.replace('= ', ' ')\n",
    "            line = line.replace(';', ' ')\n",
    "            line = line.replace('\"', ' ')\n",
    "#             line = line.replace('\\r\\n', '1gggg346gggggg1')\n",
    "#             line = line.replace('\\n', ' ')\n",
    "#             line = line.replace('1gggg346gggggg1', '\\r\\n')\n",
    "            f.write(line)\n",
    "            lines_written += 1\n",
    "            if lines_written % 100000 == 0:\n",
    "                print(\"lines written: \", lines_written)\n",
    "print(lines_written, \"total lines written\")\n",
    "f.close()"
   ]
  },
  {
   "cell_type": "markdown",
   "metadata": {},
   "source": [
    "2. convert clean file to pandas dataframe"
   ]
  },
  {
   "cell_type": "code",
   "execution_count": 27,
   "metadata": {},
   "outputs": [
    {
     "name": "stdout",
     "output_type": "stream",
     "text": [
      "<class 'pandas.core.frame.DataFrame'>\n",
      "RangeIndex: 316625 entries, 0 to 316624\n",
      "Data columns (total 26 columns):\n",
      " #   Column                  Non-Null Count   Dtype         \n",
      "---  ------                  --------------   -----         \n",
      " 0   spare                   0 non-null       float64       \n",
      " 1   Фил                     163136 non-null  object        \n",
      " 2   Исполнитель             176601 non-null  object        \n",
      " 3   Создатель               191247 non-null  object        \n",
      " 4   Дата                    163136 non-null  datetime64[ns]\n",
      " 5   № док-та                163134 non-null  object        \n",
      " 6   Счет Дт                 163136 non-null  object        \n",
      " 7   Наменование счета ДТ    163133 non-null  object        \n",
      " 8   Наменование клиента ДТ  102842 non-null  object        \n",
      " 9   ИНН клиента ДТ          63980 non-null   object        \n",
      " 10  Сумма в ном. ДТ         163136 non-null  object        \n",
      " 11  Сумма в руб. экв. ДТ    163136 non-null  float64       \n",
      " 12  Счет Кт                 163136 non-null  object        \n",
      " 13  Наменование счета КТ    163133 non-null  object        \n",
      " 14  Наменование клиента КТ  96195 non-null   object        \n",
      " 15  ИНН клиента КТ          50700 non-null   object        \n",
      " 16  Сумма в ном. КТ         163136 non-null  object        \n",
      " 17  Сумма в руб. экв. КТ    163136 non-null  float64       \n",
      " 18  Назначение операции     299452 non-null  object        \n",
      " 19  Кат                     163136 non-null  object        \n",
      " 20  Документ                163136 non-null  object        \n",
      " 21  1                       0 non-null       float64       \n",
      " 22  2                       0 non-null       float64       \n",
      " 23  accountDT2level         163136 non-null  object        \n",
      " 24  accountKT2level         163136 non-null  object        \n",
      " 25  month                   316625 non-null  object        \n",
      "dtypes: datetime64[ns](1), float64(5), object(20)\n",
      "memory usage: 62.8+ MB\n",
      "Wall time: 19 s\n"
     ]
    }
   ],
   "source": [
    "%%time\n",
    "import string\n",
    "import re\n",
    "import pandas as pd\n",
    "import numpy as np\n",
    "import codecs\n",
    "\n",
    "def strip(line):\n",
    "    try:\n",
    "        return re.sub('\\s', '', line.strip())\n",
    "    except AttributeError:\n",
    "        return text\n",
    "def strip_text(line):\n",
    "    try:\n",
    "        return re.sub('\\s{2,}', '', line.strip())\n",
    "    except AttributeError:\n",
    "        return text\n",
    "\n",
    "data = pd.read_csv(file_new, sep=\"|\", header=None, low_memory=False, encoding=\"cp1251\", names =\n",
    "                ['spare',\n",
    "                 'Фил',\n",
    "               'Исполнитель',\n",
    "              'Создатель',\n",
    "              'Дата',\n",
    "              '№ док-та',\n",
    "              'Счет Дт',\n",
    "              'Наменование счета ДТ',\n",
    "              'Наменование клиента ДТ',\n",
    "              'ИНН клиента ДТ',\n",
    "              'Сумма в ном. ДТ',\n",
    "              'Сумма в руб. экв. ДТ',\n",
    "              'Счет Кт',\n",
    "              'Наменование счета КТ',\n",
    "              'Наменование клиента КТ',\n",
    "              'ИНН клиента КТ',\n",
    "              'Сумма в ном. КТ',\n",
    "              'Сумма в руб. экв. КТ',\n",
    "              'Назначение операции',\n",
    "              'Кат',\n",
    "              'Документ', '1','2'] , converters = {'Фил': strip,\n",
    "                                                       'Исполнитель': strip_text,\n",
    "                                                       'Создатель': strip_text,\n",
    "                                                   'Наменование счета ДТ': strip_text,\n",
    "                                                   'Наменование клиента ДТ': strip_text,\n",
    "                                                   'Наменование счета КТ': strip_text,\n",
    "                                                   'Наменование клиента КТ': strip_text,\n",
    "                                                   'Назначение операции': strip_text,\n",
    "                                                   'Дата': strip,\n",
    "                                                   '№ док-та': strip,\n",
    "                                                   'Счет Дт': strip,\n",
    "                                                   'ИНН клиента ДТ': strip,\n",
    "                                                   'Сумма в ном. ДТ': strip,\n",
    "                                                   'Счет Кт': strip,\n",
    "                                                   'ИНН клиента КТ': strip,\n",
    "                                                   'Сумма в ном. КТ': strip,\n",
    "                                                   'ИНН клиента КТ': strip,\n",
    "                                                   'Сумма в руб. экв. ДТ' : strip,\n",
    "                                                   'Сумма в руб. экв. КТ' : strip})\n",
    "\n",
    "data = data.replace(r'^\\s*$', np.nan, regex=True)\n",
    "\n",
    "data['accountDT2level'] = data['Счет Дт'].str[:5] # left 5 symbols of accout name\n",
    "\n",
    "data['accountKT2level'] = data['Счет Кт'].str[:5] # left 5 symbols of accout name\n",
    "\n",
    "data['Сумма в руб. экв. ДТ'] = data['Сумма в руб. экв. ДТ'].astype(float) # converting to numbers\n",
    "\n",
    "data['Сумма в руб. экв. КТ'] = data['Сумма в руб. экв. КТ'].astype(float) # converting to numbers\n",
    "\n",
    "data['Дата'] = pd.to_datetime(data['Дата']) # converting to datetime\n",
    "data['month'] = str(month)\n",
    "data.info()"
   ]
  },
  {
   "cell_type": "markdown",
   "metadata": {},
   "source": [
    "3. saving csv and xlsx files "
   ]
  },
  {
   "cell_type": "code",
   "execution_count": 28,
   "metadata": {},
   "outputs": [
    {
     "name": "stdout",
     "output_type": "stream",
     "text": [
      "csv file is ready. now is xlsx's turn. Month is 05 , the file number is 1\n",
      "Wall time: 6.5 s\n"
     ]
    }
   ],
   "source": [
    "%%time\n",
    "output_csv = drive + r'\\Files\\3279\\2020\\Code\\Transactions\\transactions_' + month +'-2020-' + attempt +'.csv'\n",
    "output_csv_ready = drive + r'\\Files\\3279\\2020\\Code\\Transactions\\transactions_' + month +'-2020-' + attempt +'_ready_'+'.csv'\n",
    "data.to_csv(output_csv, encoding = \"cp1251\", sep='\\t', index=False)\n",
    "print(\"csv file is ready. now is xlsx's turn. Month is\", month, \", the file number is\", attempt)"
   ]
  },
  {
   "cell_type": "code",
   "execution_count": 29,
   "metadata": {},
   "outputs": [
    {
     "name": "stdout",
     "output_type": "stream",
     "text": [
      "('list index out of range',)\n",
      "['', '46', 'Гладких Марина Константиновна', 'Анохина Елена Петровна', '2020-05-31', '00176', '99999810000080000002', 'Счет для корреспонденции с активными счетами', '', '', '10335.95', '10335.95', '91418810845000001482', 'Номинальная стоимость приобретенных прав требовани', 'СИДЕЛЬНИКОВА АННА ЮРЬЕВНА', '', '10335.95', '10335.95', 'Погашение номинальных прав требования по кред.дог.NКИ-М-П 1/03/2013-1482 от 27.03.2013 Сидельникова А.Ю.', '68   ', '1286151993', '', '', '99999', '91418', '05']\n",
      "Wall time: 5.69 s\n"
     ]
    }
   ],
   "source": [
    "%%time\n",
    "with open(output_csv, newline='') as infile, open(output_csv_ready, 'w', newline='') as outfile:\n",
    "    reader = csv.reader(infile, delimiter='\\t')\n",
    "    writer = csv.writer(outfile, delimiter='\\t')\n",
    "    curr_row = None\n",
    "    prev_row = None\n",
    "#     next(reader)\n",
    "    file_csv = csv.reader(infile, delimiter='\\t')\n",
    "    lines = list(file_csv)\n",
    "    for number, row in enumerate(lines):\n",
    "        if number < len(lines) - 1:\n",
    "            step = 1\n",
    "            next_row = lines[number + 1]\n",
    "            curr_row = row\n",
    "            try:    \n",
    "                while lines[number + step][11] == '':\n",
    "#                 print(number)\n",
    "                \n",
    "                    curr_row[18] = str(curr_row[18]) +\" \"+ str(lines[number + step][18])\n",
    "                    step += 1\n",
    "                if curr_row[11] != \"\":\n",
    "                    writer.writerow(curr_row)\n",
    "            except Exception as err:\n",
    "                print(err.args)\n",
    "                pass\n",
    "        else:\n",
    "            if row[11] != \"\":\n",
    "                writer.writerow(row)\n",
    "            else:\n",
    "                row1 = lines[number-1]\n",
    "                print(row1)\n",
    "                row1[18] = str(row1[18]) +\" \"+ str(lines[number][18])\n",
    "                writer.writerow(row1)"
   ]
  },
  {
   "cell_type": "code",
   "execution_count": 30,
   "metadata": {},
   "outputs": [
    {
     "name": "stdout",
     "output_type": "stream",
     "text": [
      "xslx is ready\n",
      "the file is ready: month number 05 , the file number is 1\n",
      "Wall time: 57.2 s\n"
     ]
    }
   ],
   "source": [
    "%%time\n",
    "\n",
    "final_data =  pd.read_csv(output_csv_ready, sep=\"\\t\", low_memory=False, encoding=\"cp1251\")\n",
    "final_data.to_excel(drive + r'\\Files\\3279\\2020\\Code\\Transactions\\transactions_' + month +'-2020-' + attempt +'.xlsx', engine='xlsxwriter', index=False)\n",
    "\n",
    "print(\"xslx is ready\")\n",
    "print(\"the file is ready: month number\", month, \", the file number is\", attempt)"
   ]
  },
  {
   "cell_type": "code",
   "execution_count": 16,
   "metadata": {},
   "outputs": [
    {
     "name": "stdout",
     "output_type": "stream",
     "text": [
      "('remove: path should be string, bytes or os.PathLike, not _io.TextIOWrapper',)\n"
     ]
    }
   ],
   "source": [
    "try:\n",
    "    os.remove(output_csv)\n",
    "except Exception as err:\n",
    "    print(err.args)\n",
    "try:\n",
    "    os.remove(file)\n",
    "except Exception as err:\n",
    "    print(err.args)\n",
    "try:\n",
    "    os.remove(file_new)\n",
    "except Exception as err:\n",
    "    print(err.args)"
   ]
  },
  {
   "cell_type": "code",
   "execution_count": null,
   "metadata": {},
   "outputs": [],
   "source": []
  },
  {
   "cell_type": "code",
   "execution_count": null,
   "metadata": {},
   "outputs": [],
   "source": []
  }
 ],
 "metadata": {
  "kernelspec": {
   "display_name": "Python 3",
   "language": "python",
   "name": "python3"
  },
  "language_info": {
   "codemirror_mode": {
    "name": "ipython",
    "version": 3
   },
   "file_extension": ".py",
   "mimetype": "text/x-python",
   "name": "python",
   "nbconvert_exporter": "python",
   "pygments_lexer": "ipython3",
   "version": "3.8.2"
  }
 },
 "nbformat": 4,
 "nbformat_minor": 4
}
