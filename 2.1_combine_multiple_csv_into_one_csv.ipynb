{
 "cells": [
  {
   "cell_type": "code",
   "execution_count": 8,
   "metadata": {},
   "outputs": [
    {
     "name": "stdout",
     "output_type": "stream",
     "text": [
      "Let us start to process 5 files found in the folder\n",
      "1 file out of 5 is ready, now processing file number 2\n",
      "2 files out of 5 are ready, now processing file number 3\n",
      "3 files out of 5 are ready, now processing file number 4\n",
      "4 files out of 5 are ready, now processing file number 5\n",
      "5 files out of 5 are ready, now processing file number 6\n",
      "Done with appending, now saving CSV file\n",
      "Done\n",
      "Wall time: 29.4 s\n"
     ]
    }
   ],
   "source": [
    "%%time\n",
    "\n",
    "import os\n",
    "import pandas as pd\n",
    "\n",
    "common_df = pd.DataFrame()\n",
    "BASE_DIR = os.path.abspath(r'G:\\Files\\3279\\2020\\Code\\Transactions\\to_csv_from_csv')\n",
    "os.chdir(BASE_DIR)\n",
    "files = [f for f in os.listdir(r'G:\\Files\\3279\\2020\\Code\\Transactions\\to_csv_from_csv') if os.path.isfile(f)]\n",
    "i = 1\n",
    "print('Let us start to process', len(files), 'files found in the folder')\n",
    "for file in files:\n",
    "    temp_df = pd.read_csv(file, encoding=\"cp1251\", sep='\\t', low_memory=False)\n",
    "    common_df = common_df.append(temp_df, ignore_index=True, sort=False)\n",
    "#     common_df = common_df.reset_index()\n",
    "    if i <2:\n",
    "        print(i, \"file out of\", len(files), \"is ready, now processing file number\", i + 1)\n",
    "    elif i < 12:\n",
    "        print(i, \"files out of\", len(files), \"are ready, now processing file number\", i + 1)\n",
    "    else:\n",
    "        print(i, \"files out of\", len(files), \"are ready, now processing last file and then will save CSV\")\n",
    "    i+= 1\n",
    "    \n",
    "print('Done with appending, now saving CSV file')    \n",
    "common_df.to_csv(r'G:\\Files\\3279\\2020\\Code\\Transactions\\csv\\new_total_transactions2020.csv', sep = \"\\t\", index = False)\n",
    "print('Done')"
   ]
  },
  {
   "cell_type": "code",
   "execution_count": 9,
   "metadata": {},
   "outputs": [
    {
     "name": "stdout",
     "output_type": "stream",
     "text": [
      "<class 'pandas.core.frame.DataFrame'>\n",
      "RangeIndex: 952368 entries, 0 to 952367\n",
      "Data columns (total 26 columns):\n",
      " #   Column                  Non-Null Count   Dtype  \n",
      "---  ------                  --------------   -----  \n",
      " 0   spare                   0 non-null       float64\n",
      " 1   Фил                     952368 non-null  int64  \n",
      " 2   Исполнитель             952368 non-null  object \n",
      " 3   Создатель               952368 non-null  object \n",
      " 4   Дата                    952368 non-null  object \n",
      " 5   № док-та                952338 non-null  object \n",
      " 6   Счет Дт                 952368 non-null  object \n",
      " 7   Наменование счета ДТ    952354 non-null  object \n",
      " 8   Наменование клиента ДТ  619575 non-null  object \n",
      " 9   ИНН клиента ДТ          390857 non-null  float64\n",
      " 10  Сумма в ном. ДТ         952368 non-null  float64\n",
      " 11  Сумма в руб. экв. ДТ    952368 non-null  float64\n",
      " 12  Счет Кт                 952368 non-null  object \n",
      " 13  Наменование счета КТ    952354 non-null  object \n",
      " 14  Наменование клиента КТ  567690 non-null  object \n",
      " 15  ИНН клиента КТ          279794 non-null  float64\n",
      " 16  Сумма в ном. КТ         952368 non-null  float64\n",
      " 17  Сумма в руб. экв. КТ    952368 non-null  float64\n",
      " 18  Назначение операции     952312 non-null  object \n",
      " 19  Кат                     952368 non-null  int64  \n",
      " 20  Документ                952368 non-null  int64  \n",
      " 21  1                       0 non-null       float64\n",
      " 22  2                       0 non-null       float64\n",
      " 23  accountDT2level         952368 non-null  int64  \n",
      " 24  accountKT2level         952368 non-null  int64  \n",
      " 25  month                   952368 non-null  int64  \n",
      "dtypes: float64(9), int64(6), object(11)\n",
      "memory usage: 188.9+ MB\n",
      "None\n"
     ]
    }
   ],
   "source": [
    "print(common_df.info())"
   ]
  },
  {
   "cell_type": "code",
   "execution_count": 10,
   "metadata": {},
   "outputs": [],
   "source": [
    "common_df.to_excel(r'G:\\Files\\3279\\2020\\Code\\Transactions\\csv\\new_total_transactions2020.xlsx', engine='xlsxwriter', index=False)"
   ]
  },
  {
   "cell_type": "code",
   "execution_count": null,
   "metadata": {},
   "outputs": [],
   "source": [
    "%%time\n",
    "\n",
    "import os\n",
    "import pandas as pd\n",
    "\n",
    "common_df = pd.DataFrame()\n",
    "BASE_DIR = os.path.abspath(r'I:\\Files\\3279\\2020\\Code\\Transactions\\to_csv')\n",
    "os.chdir(BASE_DIR)\n",
    "files = [f for f in os.listdir(r'I:\\Files\\3279\\2020\\Code\\Transactions\\to_csv') if os.path.isfile(f)]\n",
    "i = 1\n",
    "print('start')\n",
    "for file in files:\n",
    "    temp_df = pd.read_excel(file)\n",
    "    new_csv = (r'I:\\Files\\3279\\2020\\Code\\Transactions\\csv\\1\\!_' + str(i) + '.csv')\n",
    "    temp_df.to_csv(new_csv, sep='\\t')\n",
    "    if i < 12:\n",
    "        print(i, \"out of\", len(files), \"ready, now processing file number\", i + 1)\n",
    "    else:\n",
    "        print(i, \"out of\", len(files), \"ready, almost done\")\n",
    "    i+= 1    \n",
    "print('Done with appending, now saving CSV file')    \n",
    "\n",
    "print('Done')"
   ]
  },
  {
   "cell_type": "code",
   "execution_count": null,
   "metadata": {},
   "outputs": [],
   "source": []
  }
 ],
 "metadata": {
  "kernelspec": {
   "display_name": "Python 3",
   "language": "python",
   "name": "python3"
  },
  "language_info": {
   "codemirror_mode": {
    "name": "ipython",
    "version": 3
   },
   "file_extension": ".py",
   "mimetype": "text/x-python",
   "name": "python",
   "nbconvert_exporter": "python",
   "pygments_lexer": "ipython3",
   "version": "3.8.2"
  }
 },
 "nbformat": 4,
 "nbformat_minor": 4
}
