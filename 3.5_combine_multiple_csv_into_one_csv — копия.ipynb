{
 "cells": [
  {
   "cell_type": "code",
   "execution_count": 3,
   "metadata": {},
   "outputs": [
    {
     "name": "stdout",
     "output_type": "stream",
     "text": [
      "start\n",
      "1 out of 12 ready, now processing file number 2\n",
      "2 out of 12 ready, now processing file number 3\n",
      "3 out of 12 ready, now processing file number 4\n",
      "4 out of 12 ready, now processing file number 5\n",
      "5 out of 12 ready, now processing file number 6\n",
      "6 out of 12 ready, now processing file number 7\n",
      "7 out of 12 ready, now processing file number 8\n",
      "8 out of 12 ready, now processing file number 9\n",
      "9 out of 12 ready, now processing file number 10\n",
      "10 out of 12 ready, now processing file number 11\n",
      "11 out of 12 ready, now processing file number 12\n",
      "12 out of 12 ready, almost done\n",
      "Done with appending, now saving CSV file\n",
      "Done\n",
      "Wall time: 9min 19s\n"
     ]
    }
   ],
   "source": [
    "%%time\n",
    "\n",
    "import os\n",
    "import pandas as pd\n",
    "\n",
    "common_df = pd.DataFrame()\n",
    "BASE_DIR = os.path.abspath(r'I:\\Files\\3279\\2020\\Code\\Transactions\\csv\\1')\n",
    "os.chdir(BASE_DIR)\n",
    "files = [f for f in os.listdir(r'I:\\Files\\3279\\2020\\Code\\Transactions\\csv\\1') if os.path.isfile(f)]\n",
    "i = 1\n",
    "print('start')\n",
    "for file in files:\n",
    "    temp_df = pd.read_csv(file, low_memory = False, sep = \"\\t\")\n",
    "    common_df = common_df.append(temp_df, ignore_index=True, sort=False)\n",
    "    new_csv = (r'I:\\Files\\3279\\2020\\Code\\Transactions\\csv\\1\\\\!_' + str(i) + '.csv')\n",
    "#    temp_df.to_csv(new_csv)\n",
    "    if i < 12:\n",
    "        print(i, \"out of\", len(files), \"ready, now processing file number\", i + 1)\n",
    "    else:\n",
    "        print(i, \"out of\", len(files), \"ready, almost done\")\n",
    "    i+= 1\n",
    "    \n",
    "print('Done with appending, now saving CSV file')    \n",
    "common_df.to_csv(r'I:\\Files\\3279\\2020\\Code\\Transactions\\csv\\total_transactions-1.csv', sep = \"\\t\", index = False)\n",
    "print('Done')"
   ]
  },
  {
   "cell_type": "code",
   "execution_count": null,
   "metadata": {},
   "outputs": [],
   "source": [
    "common_df.info()"
   ]
  },
  {
   "cell_type": "code",
   "execution_count": null,
   "metadata": {},
   "outputs": [],
   "source": [
    "temp_df.head()"
   ]
  },
  {
   "cell_type": "code",
   "execution_count": null,
   "metadata": {},
   "outputs": [],
   "source": [
    "%%time\n",
    "\n",
    "import os\n",
    "import pandas as pd\n",
    "df = pd.read_csv(r'C:\\Users\\DSimonov\\Desktop\\VCF\\222.csv', sep=';')#, encoding = \"cp1251\")\n",
    "df.head()"
   ]
  },
  {
   "cell_type": "code",
   "execution_count": null,
   "metadata": {},
   "outputs": [],
   "source": [
    "df.to_excel(r'C:\\Users\\DSimonov\\Desktop\\VCF\\222.xlsx')"
   ]
  },
  {
   "cell_type": "code",
   "execution_count": null,
   "metadata": {},
   "outputs": [],
   "source": []
  }
 ],
 "metadata": {
  "kernelspec": {
   "display_name": "Python 3",
   "language": "python",
   "name": "python3"
  },
  "language_info": {
   "codemirror_mode": {
    "name": "ipython",
    "version": 3
   },
   "file_extension": ".py",
   "mimetype": "text/x-python",
   "name": "python",
   "nbconvert_exporter": "python",
   "pygments_lexer": "ipython3",
   "version": "3.8.2"
  }
 },
 "nbformat": 4,
 "nbformat_minor": 4
}
