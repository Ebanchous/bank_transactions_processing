{
 "cells": [
  {
   "cell_type": "code",
   "execution_count": 2,
   "metadata": {},
   "outputs": [
    {
     "name": "stdout",
     "output_type": "stream",
     "text": [
      "Let us start to process 12 files found in the folder\n",
      "1 file out of 12 is ready, now processing file number 2\n",
      "2 files out of 12 are ready, now processing file number 3\n",
      "3 files out of 12 are ready, now processing file number 4\n",
      "4 files out of 12 are ready, now processing file number 5\n",
      "5 files out of 12 are ready, now processing file number 6\n",
      "6 files out of 12 are ready, now processing file number 7\n",
      "7 files out of 12 are ready, now processing file number 8\n",
      "8 files out of 12 are ready, now processing file number 9\n",
      "9 files out of 12 are ready, now processing file number 10\n",
      "10 files out of 12 are ready, now processing file number 11\n",
      "11 files out of 12 are ready, now processing file number 12\n",
      "12 files out of 12 are ready, now processing last file and then will save CSV\n",
      "Done with appending, now saving CSV file\n",
      "Done\n",
      "Wall time: 37min 56s\n"
     ]
    }
   ],
   "source": [
    "%%time\n",
    "\n",
    "import os\n",
    "import pandas as pd\n",
    "\n",
    "common_df = pd.DataFrame()\n",
    "BASE_DIR = os.path.abspath(r'G:\\Files\\3279\\2020\\Code\\Transactions\\to_csv')\n",
    "os.chdir(BASE_DIR)\n",
    "files = [f for f in os.listdir(r'G:\\Files\\3279\\2020\\Code\\Transactions\\to_csv') if os.path.isfile(f)]\n",
    "i = 1\n",
    "print('Let us start to process', len(files), 'files found in the folder')\n",
    "for file in files:\n",
    "    temp_df = pd.read_excel(file)\n",
    "    common_df = common_df.append(temp_df, ignore_index=True, sort=False)\n",
    "#    new_csv = (r'I:\\Files\\3279\\2020\\Code\\Transactions\\csv\\\\!_' + str(i) + '.csv')\n",
    "    #temp_df.to_csv(new_csv)\n",
    "    if i <2:\n",
    "        print(i, \"file out of\", len(files), \"is ready, now processing file number\", i + 1)\n",
    "    elif i < 12:\n",
    "        print(i, \"files out of\", len(files), \"are ready, now processing file number\", i + 1)\n",
    "    else:\n",
    "        print(i, \"files out of\", len(files), \"are ready, now processing last file and then will save CSV\")\n",
    "    i+= 1\n",
    "    \n",
    "print('Done with appending, now saving CSV file')    \n",
    "common_df.to_csv(r'G:\\Files\\3279\\2020\\Code\\Transactions\\csv\\new_total_transactions2019.csv', sep = \"\\t\", index = False)\n",
    "print('Done')"
   ]
  },
  {
   "cell_type": "code",
   "execution_count": 3,
   "metadata": {},
   "outputs": [
    {
     "name": "stdout",
     "output_type": "stream",
     "text": [
      "<class 'pandas.core.frame.DataFrame'>\n",
      "RangeIndex: 6725367 entries, 0 to 6725366\n",
      "Data columns (total 28 columns):\n",
      " #   Column                  Dtype         \n",
      "---  ------                  -----         \n",
      " 0   №                       float64       \n",
      " 1   spare                   datetime64[ns]\n",
      " 2   Фил                     int64         \n",
      " 3   Исполнитель             object        \n",
      " 4   Создатель               object        \n",
      " 5   Дата                    datetime64[ns]\n",
      " 6   № док-та                object        \n",
      " 7   Счет Дт                 object        \n",
      " 8   Наменование счета ДТ    object        \n",
      " 9   Наменование клиента ДТ  object        \n",
      " 10  ИНН клиента ДТ          object        \n",
      " 11  Сумма в ном. ДТ         float64       \n",
      " 12  Сумма в руб. экв. ДТ    float64       \n",
      " 13  Счет Кт                 object        \n",
      " 14  Наменование счета КТ    object        \n",
      " 15  Наменование клиента КТ  object        \n",
      " 16  ИНН клиента КТ          object        \n",
      " 17  Сумма в ном. КТ         float64       \n",
      " 18  Сумма в руб. экв. КТ    float64       \n",
      " 19  Назначение операции     object        \n",
      " 20  Кат                     object        \n",
      " 21  Документ                float64       \n",
      " 22  1                       float64       \n",
      " 23  2                       float64       \n",
      " 24  accountDT2level         int64         \n",
      " 25  accountKT2level         int64         \n",
      " 26  Month                   object        \n",
      " 27  Unnamed: 0              float64       \n",
      "dtypes: datetime64[ns](2), float64(9), int64(3), object(14)\n",
      "memory usage: 1.4+ GB\n",
      "None\n"
     ]
    }
   ],
   "source": [
    "print(common_df.info())"
   ]
  },
  {
   "cell_type": "code",
   "execution_count": null,
   "metadata": {},
   "outputs": [],
   "source": [
    "print(common_df['accountDT2level'].count())\n",
    "print(common_df['accountKT2level'].count())"
   ]
  },
  {
   "cell_type": "code",
   "execution_count": null,
   "metadata": {},
   "outputs": [],
   "source": [
    "%%time\n",
    "\n",
    "import os\n",
    "import pandas as pd\n",
    "\n",
    "common_df = pd.DataFrame()\n",
    "BASE_DIR = os.path.abspath(r'I:\\Files\\3279\\2020\\Code\\Transactions\\to_csv')\n",
    "os.chdir(BASE_DIR)\n",
    "files = [f for f in os.listdir(r'I:\\Files\\3279\\2020\\Code\\Transactions\\to_csv') if os.path.isfile(f)]\n",
    "i = 1\n",
    "print('start')\n",
    "for file in files:\n",
    "    temp_df = pd.read_excel(file)\n",
    "    new_csv = (r'I:\\Files\\3279\\2020\\Code\\Transactions\\csv\\1\\!_' + str(i) + '.csv')\n",
    "    temp_df.to_csv(new_csv, sep='\\t')\n",
    "    if i < 12:\n",
    "        print(i, \"out of\", len(files), \"ready, now processing file number\", i + 1)\n",
    "    else:\n",
    "        print(i, \"out of\", len(files), \"ready, almost done\")\n",
    "    i+= 1    \n",
    "print('Done with appending, now saving CSV file')    \n",
    "\n",
    "print('Done')"
   ]
  },
  {
   "cell_type": "code",
   "execution_count": null,
   "metadata": {},
   "outputs": [],
   "source": []
  }
 ],
 "metadata": {
  "kernelspec": {
   "display_name": "Python 3",
   "language": "python",
   "name": "python3"
  },
  "language_info": {
   "codemirror_mode": {
    "name": "ipython",
    "version": 3
   },
   "file_extension": ".py",
   "mimetype": "text/x-python",
   "name": "python",
   "nbconvert_exporter": "python",
   "pygments_lexer": "ipython3",
   "version": "3.8.2"
  }
 },
 "nbformat": 4,
 "nbformat_minor": 4
}
