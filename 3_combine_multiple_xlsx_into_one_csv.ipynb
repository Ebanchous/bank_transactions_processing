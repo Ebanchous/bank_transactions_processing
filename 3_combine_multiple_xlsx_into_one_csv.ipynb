{
 "cells": [
  {
   "cell_type": "code",
   "execution_count": null,
   "metadata": {},
   "outputs": [],
   "source": [
    "%%time\n",
    "\n",
    "import os\n",
    "import pandas as pd\n",
    "\n",
    "common_df = pd.DataFrame()\n",
    "BASE_DIR = os.path.abspath(r'I:\\Files\\3279\\2020\\Code\\Transactions\\to_csv')\n",
    "os.chdir(BASE_DIR)\n",
    "files = [f for f in os.listdir(r'I:\\Files\\3279\\2020\\Code\\Transactions\\to_csv') if os.path.isfile(f)]\n",
    "i = 1\n",
    "print('start')\n",
    "for file in files:\n",
    "    temp_df = pd.read_excel(file)\n",
    "    common_df = common_df.append(temp_df, ignore_index=True, sort=False)\n",
    "#    new_csv = (r'I:\\Files\\3279\\2020\\Code\\Transactions\\csv\\\\!_' + str(i) + '.csv')\n",
    "#    temp_df.to_csv(new_csv)\n",
    "    if i < 12:\n",
    "        print(i, \"out of\", len(files), \"ready, now processing file number\", i + 1)\n",
    "    else:\n",
    "        print(i, \"out of\", len(files), \"ready, almost done\")\n",
    "    i+= 1\n",
    "    \n",
    "print('Done with appending, now saving CSV file')    \n",
    "common_df.to_csv(r'I:\\Files\\3279\\2020\\Code\\Transactions\\csv\\total_transactions.csv')\n",
    "print('Done')"
   ]
  },
  {
   "cell_type": "code",
   "execution_count": null,
   "metadata": {},
   "outputs": [],
   "source": [
    "common_df.info()"
   ]
  },
  {
   "cell_type": "code",
   "execution_count": null,
   "metadata": {},
   "outputs": [],
   "source": [
    "temp_df.head()"
   ]
  },
  {
   "cell_type": "code",
   "execution_count": null,
   "metadata": {},
   "outputs": [],
   "source": [
    "%%time\n",
    "\n",
    "import os\n",
    "import pandas as pd\n",
    "df = pd.read_csv(r'C:\\Users\\DSimonov\\Desktop\\VCF\\222.csv', sep=';')#, encoding = \"cp1251\")\n",
    "df.head()"
   ]
  },
  {
   "cell_type": "code",
   "execution_count": null,
   "metadata": {},
   "outputs": [],
   "source": [
    "df.to_excel(r'C:\\Users\\DSimonov\\Desktop\\VCF\\222.xlsx')"
   ]
  },
  {
   "cell_type": "code",
   "execution_count": null,
   "metadata": {},
   "outputs": [],
   "source": []
  }
 ],
 "metadata": {
  "kernelspec": {
   "display_name": "Python 3",
   "language": "python",
   "name": "python3"
  },
  "language_info": {
   "codemirror_mode": {
    "name": "ipython",
    "version": 3
   },
   "file_extension": ".py",
   "mimetype": "text/x-python",
   "name": "python",
   "nbconvert_exporter": "python",
   "pygments_lexer": "ipython3",
   "version": "3.8.1"
  }
 },
 "nbformat": 4,
 "nbformat_minor": 4
}
